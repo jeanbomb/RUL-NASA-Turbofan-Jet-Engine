{
 "cells": [
  {
   "cell_type": "markdown",
   "id": "2dbfc4b0",
   "metadata": {
    "papermill": {
     "duration": 0.006832,
     "end_time": "2025-02-17T02:17:20.665247",
     "exception": false,
     "start_time": "2025-02-17T02:17:20.658415",
     "status": "completed"
    },
    "tags": []
   },
   "source": [
    "# **🔹 專案大綱**\n",
    "\n",
    "## **📌 什麼是 RUL（剩餘壽命）？**\n",
    "RUL 是指一個設備或零件**在完全失效（壞掉）之前**，還能夠運作的時間長度。例如：\n",
    "- **電動車電池**：還能用多久？  \n",
    "- **工業機械設備**：何時需要維修？  \n",
    "- **渦輪引擎 / 發電機**：多久後會故障？  \n",
    "---\n",
    "\n",
    "## **📌 RUL 預測的應用場景**\n",
    "1. **智慧製造（Smart Manufacturing）**\n",
    "   - 監測生產設備，提前維修，降低維修成本。\n",
    "   - 例如：工廠中的機械手臂、CNC 機台、電動馬達等。\n",
    "\n",
    "2. **電動車（EV）**\n",
    "   - 預測電池健康狀態，提升續航能力。\n",
    "   - 例如：電動巴士、電動車的電池模組壽命管理。\n",
    "\n",
    "3. **航空航太（Aerospace）**\n",
    "   - 監測飛機渦輪引擎，確保安全飛行。\n",
    "   - 例如：NASA C-MAPSS 數據集，就是用來預測飛機引擎剩餘壽命。\n",
    "\n",
    "---\n",
    "\n",
    "## **📌 RUL 預測的方法**\n",
    "1. **機器學習（ML）**\n",
    "   - 適合有大量已標註 RUL 數據的情況，例如：\n",
    "     - **Random Forest**\n",
    "     - **XGBoost**\n",
    "     - **SVR（Support Vector Regression）**\n",
    "\n",
    "2. **深度學習（DL）**\n",
    "   - 適合處理**時間序列數據**（即，設備狀態隨時間變化），例如：\n",
    "     - **LSTM（長短期記憶網路）**\n",
    "     - **CNN（卷積神經網路）**\n",
    "     - **Transformer（自注意力機制）**\n",
    "\n",
    "---\n"
   ]
  },
  {
   "cell_type": "markdown",
   "id": "a0fcafa2",
   "metadata": {
    "papermill": {
     "duration": 0.004979,
     "end_time": "2025-02-17T02:17:20.675634",
     "exception": false,
     "start_time": "2025-02-17T02:17:20.670655",
     "status": "completed"
    },
    "tags": []
   },
   "source": [
    "# **🔹  使用kaggle數據集**\n",
    "[NASA Turbofan Jet Engine Data Set]https://www.kaggle.com/datasets/behrad3d/nasa-cmaps)\n",
    "\n",
    "---\n",
    "\n",
    "# **🔹 技術棧**  \n",
    "- **數據處理**：`pandas`、`numpy`、`scikit-learn`  \n",
    "- **機器學習**：`RandomForestRegressor`（隨機森林）  \n",
    "- **深度學習**：`PyTorch / TensorFlow`（CNN）  \n",
    "- **模型部署**：`Flask` / `FastAPI`  \n",
    "\n",
    "---\n"
   ]
  },
  {
   "cell_type": "markdown",
   "id": "2952db37",
   "metadata": {
    "papermill": {
     "duration": 0.004847,
     "end_time": "2025-02-17T02:17:20.685534",
     "exception": false,
     "start_time": "2025-02-17T02:17:20.680687",
     "status": "completed"
    },
    "tags": []
   },
   "source": [
    "# **🔹  專案詳細步驟**\n",
    "## **1️⃣ 數據處理**\n",
    "📌 **目標**：將原始 `.txt` 檔案轉換為適用於模型訓練的 DataFrame  \n",
    "\n",
    "🔹 **步驟**\n",
    "1. 讀取 **`train_FD001.txt`** 和 **`test_FD001.txt`**  \n",
    "2. 讀取 RUL 標籤 **`RUL_FD001.txt`**  \n",
    "3. 清理數據（刪除空白列）  \n",
    "4. 添加 RUL 標籤  \n",
    "\n",
    "📌 **程式碼**\n"
   ]
  },
  {
   "cell_type": "code",
   "execution_count": 1,
   "id": "a4d9db96",
   "metadata": {
    "execution": {
     "iopub.execute_input": "2025-02-17T02:17:20.697239Z",
     "iopub.status.busy": "2025-02-17T02:17:20.696916Z",
     "iopub.status.idle": "2025-02-17T02:17:22.467520Z",
     "shell.execute_reply": "2025-02-17T02:17:22.465805Z"
    },
    "papermill": {
     "duration": 1.778556,
     "end_time": "2025-02-17T02:17:22.469251",
     "exception": false,
     "start_time": "2025-02-17T02:17:20.690695",
     "status": "completed"
    },
    "tags": []
   },
   "outputs": [
    {
     "name": "stdout",
     "output_type": "stream",
     "text": [
      "                             unit    time  sensor_1  sensor_2  sensor_3  \\\n",
      "1 1 -0.0007 -0.0004 100.0  518.67  641.82   1589.70   1400.60     14.62   \n",
      "  2  0.0019 -0.0003 100.0  518.67  642.15   1591.82   1403.14     14.62   \n",
      "  3 -0.0043  0.0003 100.0  518.67  642.35   1587.99   1404.20     14.62   \n",
      "  4  0.0007  0.0000 100.0  518.67  642.35   1582.79   1401.87     14.62   \n",
      "  5 -0.0019 -0.0002 100.0  518.67  642.37   1582.85   1406.22     14.62   \n",
      "\n",
      "                           sensor_4  sensor_5  sensor_6  sensor_7  sensor_8  \\\n",
      "1 1 -0.0007 -0.0004 100.0     21.61    554.36   2388.06   9046.19       1.3   \n",
      "  2  0.0019 -0.0003 100.0     21.61    553.75   2388.04   9044.07       1.3   \n",
      "  3 -0.0043  0.0003 100.0     21.61    554.26   2388.08   9052.94       1.3   \n",
      "  4  0.0007  0.0000 100.0     21.61    554.45   2388.11   9049.48       1.3   \n",
      "  5 -0.0019 -0.0002 100.0     21.61    554.00   2388.06   9055.15       1.3   \n",
      "\n",
      "                           ...  sensor_12  sensor_13  sensor_14  sensor_15  \\\n",
      "1 1 -0.0007 -0.0004 100.0  ...    8138.62     8.4195       0.03        392   \n",
      "  2  0.0019 -0.0003 100.0  ...    8131.49     8.4318       0.03        392   \n",
      "  3 -0.0043  0.0003 100.0  ...    8133.23     8.4178       0.03        390   \n",
      "  4  0.0007  0.0000 100.0  ...    8133.83     8.3682       0.03        392   \n",
      "  5 -0.0019 -0.0002 100.0  ...    8133.80     8.4294       0.03        393   \n",
      "\n",
      "                           sensor_16  sensor_17  sensor_18  sensor_19  \\\n",
      "1 1 -0.0007 -0.0004 100.0       2388      100.0      39.06    23.4190   \n",
      "  2  0.0019 -0.0003 100.0       2388      100.0      39.00    23.4236   \n",
      "  3 -0.0043  0.0003 100.0       2388      100.0      38.95    23.3442   \n",
      "  4  0.0007  0.0000 100.0       2388      100.0      38.88    23.3739   \n",
      "  5 -0.0019 -0.0002 100.0       2388      100.0      38.90    23.4044   \n",
      "\n",
      "                           sensor_20  sensor_21  \n",
      "1 1 -0.0007 -0.0004 100.0        NaN        NaN  \n",
      "  2  0.0019 -0.0003 100.0        NaN        NaN  \n",
      "  3 -0.0043  0.0003 100.0        NaN        NaN  \n",
      "  4  0.0007  0.0000 100.0        NaN        NaN  \n",
      "  5 -0.0019 -0.0002 100.0        NaN        NaN  \n",
      "\n",
      "[5 rows x 23 columns]\n",
      "                             unit    time  sensor_1  sensor_2  sensor_3  \\\n",
      "1 1  0.0023  0.0003 100.0  518.67  643.02   1585.29   1398.21     14.62   \n",
      "  2 -0.0027 -0.0003 100.0  518.67  641.71   1588.45   1395.42     14.62   \n",
      "  3  0.0003  0.0001 100.0  518.67  642.46   1586.94   1401.34     14.62   \n",
      "  4  0.0042  0.0000 100.0  518.67  642.44   1584.12   1406.42     14.62   \n",
      "  5  0.0014  0.0000 100.0  518.67  642.51   1587.19   1401.92     14.62   \n",
      "\n",
      "                           sensor_4  sensor_5  sensor_6  sensor_7  sensor_8  \\\n",
      "1 1  0.0023  0.0003 100.0     21.61    553.90   2388.04   9050.17       1.3   \n",
      "  2 -0.0027 -0.0003 100.0     21.61    554.85   2388.01   9054.42       1.3   \n",
      "  3  0.0003  0.0001 100.0     21.61    554.11   2388.05   9056.96       1.3   \n",
      "  4  0.0042  0.0000 100.0     21.61    554.07   2388.03   9045.29       1.3   \n",
      "  5  0.0014  0.0000 100.0     21.61    554.16   2388.01   9044.55       1.3   \n",
      "\n",
      "                           ...  sensor_12  sensor_13  sensor_14  sensor_15  \\\n",
      "1 1  0.0023  0.0003 100.0  ...    8125.55     8.4052       0.03        392   \n",
      "  2 -0.0027 -0.0003 100.0  ...    8139.62     8.3803       0.03        393   \n",
      "  3  0.0003  0.0001 100.0  ...    8130.10     8.4441       0.03        393   \n",
      "  4  0.0042  0.0000 100.0  ...    8132.90     8.3917       0.03        391   \n",
      "  5  0.0014  0.0000 100.0  ...    8129.54     8.4031       0.03        390   \n",
      "\n",
      "                           sensor_16  sensor_17  sensor_18  sensor_19  \\\n",
      "1 1  0.0023  0.0003 100.0       2388      100.0      38.86    23.3735   \n",
      "  2 -0.0027 -0.0003 100.0       2388      100.0      39.02    23.3916   \n",
      "  3  0.0003  0.0001 100.0       2388      100.0      39.08    23.4166   \n",
      "  4  0.0042  0.0000 100.0       2388      100.0      39.00    23.3737   \n",
      "  5  0.0014  0.0000 100.0       2388      100.0      38.99    23.4130   \n",
      "\n",
      "                           sensor_20  sensor_21  \n",
      "1 1  0.0023  0.0003 100.0        NaN        NaN  \n",
      "  2 -0.0027 -0.0003 100.0        NaN        NaN  \n",
      "  3  0.0003  0.0001 100.0        NaN        NaN  \n",
      "  4  0.0042  0.0000 100.0        NaN        NaN  \n",
      "  5  0.0014  0.0000 100.0        NaN        NaN  \n",
      "\n",
      "[5 rows x 23 columns]\n"
     ]
    }
   ],
   "source": [
    "import pandas as pd\n",
    "import numpy as np\n",
    "import warnings\n",
    "warnings.filterwarnings(\"ignore\")\n",
    "\n",
    "# 讀取數據\n",
    "train_path = \"/kaggle/input/nasa-cmaps/CMaps/train_FD001.txt\"\n",
    "test_path = \"/kaggle/input/nasa-cmaps/CMaps/test_FD001.txt\"\n",
    "rul_path = \"/kaggle/input/nasa-cmaps/CMaps/RUL_FD001.txt\"\n",
    "\n",
    "# 設定固定列名\n",
    "column_names = ['unit', 'time'] + [f'sensor_{i}' for i in range(1, 22)]\n",
    "\n",
    "# 讀取數據文件\n",
    "train_data = pd.read_csv(train_path, sep=\" \", header=None, names=column_names, engine='python')\n",
    "test_data = pd.read_csv(test_path, sep=\" \", header=None, names=column_names, engine='python')\n",
    "rul_data = pd.read_csv(rul_path, header=None, names=['RUL'])\n",
    "\n",
    "# 顯示數據的前幾行，看看數據長什麼樣子\n",
    "print(train_data.head())\n",
    "print(test_data.head())"
   ]
  },
  {
   "cell_type": "code",
   "execution_count": 2,
   "id": "000a94dc",
   "metadata": {
    "execution": {
     "iopub.execute_input": "2025-02-17T02:17:22.481641Z",
     "iopub.status.busy": "2025-02-17T02:17:22.481268Z",
     "iopub.status.idle": "2025-02-17T02:17:22.503661Z",
     "shell.execute_reply": "2025-02-17T02:17:22.502410Z"
    },
    "papermill": {
     "duration": 0.030517,
     "end_time": "2025-02-17T02:17:22.505415",
     "exception": false,
     "start_time": "2025-02-17T02:17:22.474898",
     "status": "completed"
    },
    "tags": []
   },
   "outputs": [
    {
     "name": "stdout",
     "output_type": "stream",
     "text": [
      "                             unit    time  sensor_1  sensor_2  sensor_3  \\\n",
      "1 1 -0.0007 -0.0004 100.0  518.67  641.82   1589.70   1400.60     14.62   \n",
      "  2  0.0019 -0.0003 100.0  518.67  642.15   1591.82   1403.14     14.62   \n",
      "  3 -0.0043  0.0003 100.0  518.67  642.35   1587.99   1404.20     14.62   \n",
      "  4  0.0007  0.0000 100.0  518.67  642.35   1582.79   1401.87     14.62   \n",
      "  5 -0.0019 -0.0002 100.0  518.67  642.37   1582.85   1406.22     14.62   \n",
      "\n",
      "                           sensor_4  sensor_5  sensor_6  sensor_7  sensor_8  \\\n",
      "1 1 -0.0007 -0.0004 100.0     21.61    554.36   2388.06   9046.19       1.3   \n",
      "  2  0.0019 -0.0003 100.0     21.61    553.75   2388.04   9044.07       1.3   \n",
      "  3 -0.0043  0.0003 100.0     21.61    554.26   2388.08   9052.94       1.3   \n",
      "  4  0.0007  0.0000 100.0     21.61    554.45   2388.11   9049.48       1.3   \n",
      "  5 -0.0019 -0.0002 100.0     21.61    554.00   2388.06   9055.15       1.3   \n",
      "\n",
      "                           ...  sensor_10  sensor_11  sensor_12  sensor_13  \\\n",
      "1 1 -0.0007 -0.0004 100.0  ...     521.66    2388.02    8138.62     8.4195   \n",
      "  2  0.0019 -0.0003 100.0  ...     522.28    2388.07    8131.49     8.4318   \n",
      "  3 -0.0043  0.0003 100.0  ...     522.42    2388.03    8133.23     8.4178   \n",
      "  4  0.0007  0.0000 100.0  ...     522.86    2388.08    8133.83     8.3682   \n",
      "  5 -0.0019 -0.0002 100.0  ...     522.19    2388.04    8133.80     8.4294   \n",
      "\n",
      "                           sensor_14  sensor_15  sensor_16  sensor_17  \\\n",
      "1 1 -0.0007 -0.0004 100.0       0.03        392       2388      100.0   \n",
      "  2  0.0019 -0.0003 100.0       0.03        392       2388      100.0   \n",
      "  3 -0.0043  0.0003 100.0       0.03        390       2388      100.0   \n",
      "  4  0.0007  0.0000 100.0       0.03        392       2388      100.0   \n",
      "  5 -0.0019 -0.0002 100.0       0.03        393       2388      100.0   \n",
      "\n",
      "                           sensor_18  sensor_19  \n",
      "1 1 -0.0007 -0.0004 100.0      39.06    23.4190  \n",
      "  2  0.0019 -0.0003 100.0      39.00    23.4236  \n",
      "  3 -0.0043  0.0003 100.0      38.95    23.3442  \n",
      "  4  0.0007  0.0000 100.0      38.88    23.3739  \n",
      "  5 -0.0019 -0.0002 100.0      38.90    23.4044  \n",
      "\n",
      "[5 rows x 21 columns]\n"
     ]
    }
   ],
   "source": [
    "# 清理數據（去掉空白列）\n",
    "train_data.dropna(axis=1, how='all', inplace=True)\n",
    "test_data.dropna(axis=1, how='all', inplace=True)\n",
    "\n",
    "# 顯示清理後的數據\n",
    "print(train_data.head())"
   ]
  },
  {
   "cell_type": "code",
   "execution_count": 3,
   "id": "8c0ef523",
   "metadata": {
    "execution": {
     "iopub.execute_input": "2025-02-17T02:17:22.518002Z",
     "iopub.status.busy": "2025-02-17T02:17:22.517661Z",
     "iopub.status.idle": "2025-02-17T02:17:22.542371Z",
     "shell.execute_reply": "2025-02-17T02:17:22.541149Z"
    },
    "papermill": {
     "duration": 0.033048,
     "end_time": "2025-02-17T02:17:22.544091",
     "exception": false,
     "start_time": "2025-02-17T02:17:22.511043",
     "status": "completed"
    },
    "tags": []
   },
   "outputs": [
    {
     "name": "stdout",
     "output_type": "stream",
     "text": [
      "                             unit    time  sensor_1  sensor_2  sensor_3  \\\n",
      "1 1 -0.0007 -0.0004 100.0  518.67  641.82   1589.70   1400.60     14.62   \n",
      "  2  0.0019 -0.0003 100.0  518.67  642.15   1591.82   1403.14     14.62   \n",
      "  3 -0.0043  0.0003 100.0  518.67  642.35   1587.99   1404.20     14.62   \n",
      "  4  0.0007  0.0000 100.0  518.67  642.35   1582.79   1401.87     14.62   \n",
      "  5 -0.0019 -0.0002 100.0  518.67  642.37   1582.85   1406.22     14.62   \n",
      "\n",
      "                           sensor_4  sensor_5  sensor_6  sensor_7  sensor_8  \\\n",
      "1 1 -0.0007 -0.0004 100.0     21.61    554.36   2388.06   9046.19       1.3   \n",
      "  2  0.0019 -0.0003 100.0     21.61    553.75   2388.04   9044.07       1.3   \n",
      "  3 -0.0043  0.0003 100.0     21.61    554.26   2388.08   9052.94       1.3   \n",
      "  4  0.0007  0.0000 100.0     21.61    554.45   2388.11   9049.48       1.3   \n",
      "  5 -0.0019 -0.0002 100.0     21.61    554.00   2388.06   9055.15       1.3   \n",
      "\n",
      "                           ...  sensor_11  sensor_12  sensor_13  sensor_14  \\\n",
      "1 1 -0.0007 -0.0004 100.0  ...    2388.02    8138.62     8.4195       0.03   \n",
      "  2  0.0019 -0.0003 100.0  ...    2388.07    8131.49     8.4318       0.03   \n",
      "  3 -0.0043  0.0003 100.0  ...    2388.03    8133.23     8.4178       0.03   \n",
      "  4  0.0007  0.0000 100.0  ...    2388.08    8133.83     8.3682       0.03   \n",
      "  5 -0.0019 -0.0002 100.0  ...    2388.04    8133.80     8.4294       0.03   \n",
      "\n",
      "                           sensor_15  sensor_16  sensor_17  sensor_18  \\\n",
      "1 1 -0.0007 -0.0004 100.0        392       2388      100.0      39.06   \n",
      "  2  0.0019 -0.0003 100.0        392       2388      100.0      39.00   \n",
      "  3 -0.0043  0.0003 100.0        390       2388      100.0      38.95   \n",
      "  4  0.0007  0.0000 100.0        392       2388      100.0      38.88   \n",
      "  5 -0.0019 -0.0002 100.0        393       2388      100.0      38.90   \n",
      "\n",
      "                           sensor_19   RUL  \n",
      "1 1 -0.0007 -0.0004 100.0    23.4190  2.71  \n",
      "  2  0.0019 -0.0003 100.0    23.4236  2.38  \n",
      "  3 -0.0043  0.0003 100.0    23.3442  2.18  \n",
      "  4  0.0007  0.0000 100.0    23.3739  2.18  \n",
      "  5 -0.0019 -0.0002 100.0    23.4044  2.16  \n",
      "\n",
      "[5 rows x 22 columns]\n"
     ]
    }
   ],
   "source": [
    "# 計算 RUL（剩餘壽命）(RUL 的計算方法是每個設備的最大運行時間減去它當前的運行時間)\n",
    "train_data['RUL'] = train_data.groupby('unit')['time'].transform(lambda x: x.max() - x)\n",
    "\n",
    "# 顯示數據的前幾行，檢查 RUL 是否計算正確\n",
    "print(train_data.head())"
   ]
  },
  {
   "cell_type": "markdown",
   "id": "fb1efc34",
   "metadata": {
    "papermill": {
     "duration": 0.00532,
     "end_time": "2025-02-17T02:17:22.555272",
     "exception": false,
     "start_time": "2025-02-17T02:17:22.549952",
     "status": "completed"
    },
    "tags": []
   },
   "source": [
    "\n",
    "---\n",
    "\n",
    "## **2️⃣ 特徵工程**\n",
    "📌 **目標**：建立適合機器學習的數據集  \n",
    "\n",
    "🔹 **步驟**\n",
    "1. **移動平均特徵**（用 5 個時間步長做平滑）  \n",
    "2. **標準化感測器數據**  \n",
    "\n",
    "📌 **程式碼**"
   ]
  },
  {
   "cell_type": "code",
   "execution_count": 4,
   "id": "dd01c935",
   "metadata": {
    "execution": {
     "iopub.execute_input": "2025-02-17T02:17:22.567851Z",
     "iopub.status.busy": "2025-02-17T02:17:22.567526Z",
     "iopub.status.idle": "2025-02-17T02:17:22.577948Z",
     "shell.execute_reply": "2025-02-17T02:17:22.576793Z"
    },
    "papermill": {
     "duration": 0.018576,
     "end_time": "2025-02-17T02:17:22.579574",
     "exception": false,
     "start_time": "2025-02-17T02:17:22.560998",
     "status": "completed"
    },
    "tags": []
   },
   "outputs": [
    {
     "name": "stdout",
     "output_type": "stream",
     "text": [
      "unit         0\n",
      "time         0\n",
      "sensor_1     0\n",
      "sensor_2     0\n",
      "sensor_3     0\n",
      "sensor_4     0\n",
      "sensor_5     0\n",
      "sensor_6     0\n",
      "sensor_7     0\n",
      "sensor_8     0\n",
      "sensor_9     0\n",
      "sensor_10    0\n",
      "sensor_11    0\n",
      "sensor_12    0\n",
      "sensor_13    0\n",
      "sensor_14    0\n",
      "sensor_15    0\n",
      "sensor_16    0\n",
      "sensor_17    0\n",
      "sensor_18    0\n",
      "sensor_19    0\n",
      "RUL          0\n",
      "dtype: int64\n",
      "unit         0\n",
      "time         0\n",
      "sensor_1     0\n",
      "sensor_2     0\n",
      "sensor_3     0\n",
      "sensor_4     0\n",
      "sensor_5     0\n",
      "sensor_6     0\n",
      "sensor_7     0\n",
      "sensor_8     0\n",
      "sensor_9     0\n",
      "sensor_10    0\n",
      "sensor_11    0\n",
      "sensor_12    0\n",
      "sensor_13    0\n",
      "sensor_14    0\n",
      "sensor_15    0\n",
      "sensor_16    0\n",
      "sensor_17    0\n",
      "sensor_18    0\n",
      "sensor_19    0\n",
      "dtype: int64\n"
     ]
    }
   ],
   "source": [
    "# 檢查缺失值\n",
    "print(train_data.isnull().sum())\n",
    "print(test_data.isnull().sum())\n"
   ]
  },
  {
   "cell_type": "code",
   "execution_count": 5,
   "id": "2c2cf40c",
   "metadata": {
    "execution": {
     "iopub.execute_input": "2025-02-17T02:17:22.592348Z",
     "iopub.status.busy": "2025-02-17T02:17:22.592012Z",
     "iopub.status.idle": "2025-02-17T02:17:23.330497Z",
     "shell.execute_reply": "2025-02-17T02:17:23.329397Z"
    },
    "papermill": {
     "duration": 0.747195,
     "end_time": "2025-02-17T02:17:23.332640",
     "exception": false,
     "start_time": "2025-02-17T02:17:22.585445",
     "status": "completed"
    },
    "tags": []
   },
   "outputs": [],
   "source": [
    "# 填充缺失值\n",
    "train_data.fillna(train_data.mean(), inplace=True)\n",
    "test_data.fillna(test_data.mean(), inplace=True)\n"
   ]
  },
  {
   "cell_type": "code",
   "execution_count": 6,
   "id": "4f8c64d0",
   "metadata": {
    "execution": {
     "iopub.execute_input": "2025-02-17T02:17:23.345698Z",
     "iopub.status.busy": "2025-02-17T02:17:23.345258Z",
     "iopub.status.idle": "2025-02-17T02:17:24.807894Z",
     "shell.execute_reply": "2025-02-17T02:17:24.806968Z"
    },
    "papermill": {
     "duration": 1.471249,
     "end_time": "2025-02-17T02:17:24.809886",
     "exception": false,
     "start_time": "2025-02-17T02:17:23.338637",
     "status": "completed"
    },
    "tags": []
   },
   "outputs": [],
   "source": [
    "from sklearn.preprocessing import StandardScaler\n",
    "\n",
    "# 生成特移動平均徵\n",
    "for sensor in [f'sensor_{i}' for i in range(1, 20)]:\n",
    "    train_data[sensor + '_mean'] = train_data[sensor].rolling(5).mean()\n",
    "\n",
    "# 標準化\n",
    "scaler = StandardScaler()\n",
    "sensor_features = [f'sensor_{i}' for i in range(1, 20)]\n",
    "train_data[sensor_features] = scaler.fit_transform(train_data[sensor_features])"
   ]
  },
  {
   "cell_type": "markdown",
   "id": "395a28cf",
   "metadata": {
    "papermill": {
     "duration": 0.005841,
     "end_time": "2025-02-17T02:17:24.822494",
     "exception": false,
     "start_time": "2025-02-17T02:17:24.816653",
     "status": "completed"
    },
    "tags": []
   },
   "source": [
    "\n",
    "---\n",
    "\n",
    "## **3️⃣ 隨機森林（機器學習模型）**\n",
    "📌 **目標**：使用 **隨機森林** 預測 RUL  \n",
    "\n",
    "🔹 **步驟**\n",
    "1. 建立 `RandomForestRegressor`  \n",
    "2. 訓練模型  \n",
    "3. 評估模型（MSE, RMSE, R²）  \n",
    "\n",
    "📌 **程式碼**"
   ]
  },
  {
   "cell_type": "code",
   "execution_count": 7,
   "id": "ce181da8",
   "metadata": {
    "execution": {
     "iopub.execute_input": "2025-02-17T02:17:24.835555Z",
     "iopub.status.busy": "2025-02-17T02:17:24.835017Z",
     "iopub.status.idle": "2025-02-17T02:17:24.851810Z",
     "shell.execute_reply": "2025-02-17T02:17:24.850508Z"
    },
    "papermill": {
     "duration": 0.025501,
     "end_time": "2025-02-17T02:17:24.853734",
     "exception": false,
     "start_time": "2025-02-17T02:17:24.828233",
     "status": "completed"
    },
    "tags": []
   },
   "outputs": [],
   "source": [
    "# 選擇感測器特徵作為 X（輸入）\n",
    "sensor_features = [f'sensor_{i}' for i in range(1, 20)] + [f'sensor_{i}_mean' for i in range(1, 20)]\n",
    "X = train_data[sensor_features]\n",
    "\n",
    "# 設定 y（目標標籤，RUL）\n",
    "y = train_data.groupby('unit')['time'].transform(max) - train_data['time']\n"
   ]
  },
  {
   "cell_type": "code",
   "execution_count": 8,
   "id": "d9a95dc1",
   "metadata": {
    "execution": {
     "iopub.execute_input": "2025-02-17T02:17:24.866883Z",
     "iopub.status.busy": "2025-02-17T02:17:24.866491Z",
     "iopub.status.idle": "2025-02-17T02:17:25.013679Z",
     "shell.execute_reply": "2025-02-17T02:17:25.012457Z"
    },
    "papermill": {
     "duration": 0.155863,
     "end_time": "2025-02-17T02:17:25.015506",
     "exception": false,
     "start_time": "2025-02-17T02:17:24.859643",
     "status": "completed"
    },
    "tags": []
   },
   "outputs": [
    {
     "name": "stdout",
     "output_type": "stream",
     "text": [
      "訓練集大小: (16504, 38), 測試集大小: (4127, 38)\n"
     ]
    }
   ],
   "source": [
    "from sklearn.model_selection import train_test_split\n",
    "\n",
    "# 80% 訓練, 20% 測試\n",
    "X_train, X_test, y_train, y_test = train_test_split(X, y, test_size=0.2, random_state=42)\n",
    "\n",
    "print(f\"訓練集大小: {X_train.shape}, 測試集大小: {X_test.shape}\")\n"
   ]
  },
  {
   "cell_type": "code",
   "execution_count": 9,
   "id": "3d049cc7",
   "metadata": {
    "execution": {
     "iopub.execute_input": "2025-02-17T02:17:25.028950Z",
     "iopub.status.busy": "2025-02-17T02:17:25.028577Z",
     "iopub.status.idle": "2025-02-17T02:17:25.041622Z",
     "shell.execute_reply": "2025-02-17T02:17:25.040239Z"
    },
    "papermill": {
     "duration": 0.02191,
     "end_time": "2025-02-17T02:17:25.043586",
     "exception": false,
     "start_time": "2025-02-17T02:17:25.021676",
     "status": "completed"
    },
    "tags": []
   },
   "outputs": [
    {
     "name": "stdout",
     "output_type": "stream",
     "text": [
      "38\n",
      "38\n"
     ]
    }
   ],
   "source": [
    "print(X_train.isnull().sum().sum())  # 計算 NaN 總數\n",
    "print(X_test.isnull().sum().sum())\n"
   ]
  },
  {
   "cell_type": "code",
   "execution_count": 10,
   "id": "91bdd62f",
   "metadata": {
    "execution": {
     "iopub.execute_input": "2025-02-17T02:17:25.056847Z",
     "iopub.status.busy": "2025-02-17T02:17:25.056506Z",
     "iopub.status.idle": "2025-02-17T02:17:25.995127Z",
     "shell.execute_reply": "2025-02-17T02:17:25.993980Z"
    },
    "papermill": {
     "duration": 0.947447,
     "end_time": "2025-02-17T02:17:25.997110",
     "exception": false,
     "start_time": "2025-02-17T02:17:25.049663",
     "status": "completed"
    },
    "tags": []
   },
   "outputs": [],
   "source": [
    "# 用均值填補 NaN\n",
    "X_train.fillna(X_train.mean(), inplace=True)\n",
    "X_test.fillna(X_test.mean(), inplace=True)\n"
   ]
  },
  {
   "cell_type": "code",
   "execution_count": 11,
   "id": "d7ec11e2",
   "metadata": {
    "execution": {
     "iopub.execute_input": "2025-02-17T02:17:26.011396Z",
     "iopub.status.busy": "2025-02-17T02:17:26.010969Z",
     "iopub.status.idle": "2025-02-17T02:18:04.804833Z",
     "shell.execute_reply": "2025-02-17T02:18:04.803553Z"
    },
    "papermill": {
     "duration": 38.809125,
     "end_time": "2025-02-17T02:18:04.812648",
     "exception": false,
     "start_time": "2025-02-17T02:17:26.003523",
     "status": "completed"
    },
    "tags": []
   },
   "outputs": [
    {
     "name": "stdout",
     "output_type": "stream",
     "text": [
      "隨機森林模型訓練完成！\n"
     ]
    }
   ],
   "source": [
    "from sklearn.ensemble import RandomForestRegressor\n",
    "\n",
    "# 建立隨機森林模型\n",
    "rf_model = RandomForestRegressor(n_estimators=100, random_state=42)\n",
    "\n",
    "# 訓練模型\n",
    "rf_model.fit(X_train, y_train)\n",
    "\n",
    "print(\"隨機森林模型訓練完成！\")\n"
   ]
  },
  {
   "cell_type": "code",
   "execution_count": 12,
   "id": "6c92813a",
   "metadata": {
    "execution": {
     "iopub.execute_input": "2025-02-17T02:18:04.825753Z",
     "iopub.status.busy": "2025-02-17T02:18:04.825396Z",
     "iopub.status.idle": "2025-02-17T02:18:04.985525Z",
     "shell.execute_reply": "2025-02-17T02:18:04.984260Z"
    },
    "papermill": {
     "duration": 0.168624,
     "end_time": "2025-02-17T02:18:04.987179",
     "exception": false,
     "start_time": "2025-02-17T02:18:04.818555",
     "status": "completed"
    },
    "tags": []
   },
   "outputs": [
    {
     "name": "stdout",
     "output_type": "stream",
     "text": [
      "隨機森林模型的 MSE: 0.09723922108068744\n",
      "隨機森林模型的 RMSE: 0.3118320398558933\n",
      "隨機森林模型的 R²: 0.6106563464316525\n"
     ]
    }
   ],
   "source": [
    "from sklearn.metrics import mean_squared_error, r2_score\n",
    "\n",
    "# 預測測試集\n",
    "y_pred = rf_model.predict(X_test)\n",
    "\n",
    "# 計算 MSE（均方誤差）\n",
    "mse = mean_squared_error(y_test, y_pred)\n",
    "\n",
    "# 計算 RMSE（均方根誤差）\n",
    "rmse = mean_squared_error(y_test, y_pred, squared=False)\n",
    "\n",
    "# 計算 R²（決定係數）\n",
    "r2 = r2_score(y_test, y_pred)\n",
    "\n",
    "print(f\"隨機森林模型的 MSE: {mse}\")\n",
    "print(f\"隨機森林模型的 RMSE: {rmse}\")\n",
    "print(f\"隨機森林模型的 R²: {r2}\")\n"
   ]
  },
  {
   "cell_type": "markdown",
   "id": "1d285e74",
   "metadata": {
    "papermill": {
     "duration": 0.005815,
     "end_time": "2025-02-17T02:18:04.999294",
     "exception": false,
     "start_time": "2025-02-17T02:18:04.993479",
     "status": "completed"
    },
    "tags": []
   },
   "source": [
    "\n",
    "---\n",
    "\n",
    "## **4️⃣ CNN（深度學習模型）**\n",
    "📌 **目標**：使用 **CNN** 預測 RUL  \n",
    "\n",
    "🔹 **步驟**\n",
    "1. 設計 CNN 架構  \n",
    "2. 訓練模型  \n",
    "3. 評估模型  \n",
    "\n",
    "📌 **程式碼（TensorFlow/Keras）**\n"
   ]
  },
  {
   "cell_type": "code",
   "execution_count": 13,
   "id": "65f72577",
   "metadata": {
    "execution": {
     "iopub.execute_input": "2025-02-17T02:18:05.013019Z",
     "iopub.status.busy": "2025-02-17T02:18:05.012642Z",
     "iopub.status.idle": "2025-02-17T02:18:05.128873Z",
     "shell.execute_reply": "2025-02-17T02:18:05.127658Z"
    },
    "papermill": {
     "duration": 0.125548,
     "end_time": "2025-02-17T02:18:05.131077",
     "exception": false,
     "start_time": "2025-02-17T02:18:05.005529",
     "status": "completed"
    },
    "tags": []
   },
   "outputs": [
    {
     "name": "stdout",
     "output_type": "stream",
     "text": [
      "(16494, 10, 38) (4117, 10, 38)\n"
     ]
    }
   ],
   "source": [
    "# CNN 資料預處理，窗口化（Sliding Window）\n",
    "import numpy as np\n",
    "\n",
    "def create_sequences(X, y, time_steps=5):\n",
    "    X_seq, y_seq = [], []\n",
    "    # 確保 y 的索引連續\n",
    "    y = y.reset_index(drop=True) if hasattr(y, \"reset_index\") else y\n",
    "    for i in range(len(X) - time_steps):\n",
    "        X_seq.append(X[i: i + time_steps])\n",
    "        y_seq.append(y[i + time_steps])\n",
    "    return np.array(X_seq), np.array(y_seq)\n",
    "\n",
    "# 如果 X_train 和 X_test 是 DataFrame，將其轉換為 NumPy 陣列\n",
    "X_train = X_train.to_numpy() if hasattr(X_train, 'to_numpy') else X_train\n",
    "X_test = X_test.to_numpy() if hasattr(X_test, 'to_numpy') else X_test\n",
    "\n",
    "time_steps = 10  # 窗口大小\n",
    "X_train_seq, y_train_seq = create_sequences(X_train, y_train, time_steps)\n",
    "X_test_seq, y_test_seq = create_sequences(X_test, y_test, time_steps)\n",
    "\n",
    "# 確保輸入形狀正確 (樣本數, 時間步長, 特徵數)\n",
    "print(X_train_seq.shape, X_test_seq.shape)  # 應該是 (樣本數, 10, 特徵數)\n"
   ]
  },
  {
   "cell_type": "code",
   "execution_count": 14,
   "id": "cfabc0f7",
   "metadata": {
    "execution": {
     "iopub.execute_input": "2025-02-17T02:18:05.145030Z",
     "iopub.status.busy": "2025-02-17T02:18:05.144675Z",
     "iopub.status.idle": "2025-02-17T02:18:20.860332Z",
     "shell.execute_reply": "2025-02-17T02:18:20.859256Z"
    },
    "papermill": {
     "duration": 15.724942,
     "end_time": "2025-02-17T02:18:20.862433",
     "exception": false,
     "start_time": "2025-02-17T02:18:05.137491",
     "status": "completed"
    },
    "tags": []
   },
   "outputs": [],
   "source": [
    "import tensorflow as tf\n",
    "from tensorflow.keras.models import Sequential\n",
    "from tensorflow.keras.layers import Conv1D, LSTM, Flatten, Dense, Dropout\n",
    "from tensorflow.keras.optimizers import Adam\n",
    "from sklearn.metrics import mean_squared_error, r2_score\n",
    "import numpy as np"
   ]
  },
  {
   "cell_type": "code",
   "execution_count": 15,
   "id": "2225feca",
   "metadata": {
    "execution": {
     "iopub.execute_input": "2025-02-17T02:18:20.877242Z",
     "iopub.status.busy": "2025-02-17T02:18:20.876586Z",
     "iopub.status.idle": "2025-02-17T02:18:21.028740Z",
     "shell.execute_reply": "2025-02-17T02:18:21.027753Z"
    },
    "papermill": {
     "duration": 0.161451,
     "end_time": "2025-02-17T02:18:21.030479",
     "exception": false,
     "start_time": "2025-02-17T02:18:20.869028",
     "status": "completed"
    },
    "tags": []
   },
   "outputs": [
    {
     "data": {
      "text/html": [
       "<pre style=\"white-space:pre;overflow-x:auto;line-height:normal;font-family:Menlo,'DejaVu Sans Mono',consolas,'Courier New',monospace\"><span style=\"font-weight: bold\">Model: \"sequential\"</span>\n",
       "</pre>\n"
      ],
      "text/plain": [
       "\u001b[1mModel: \"sequential\"\u001b[0m\n"
      ]
     },
     "metadata": {},
     "output_type": "display_data"
    },
    {
     "data": {
      "text/html": [
       "<pre style=\"white-space:pre;overflow-x:auto;line-height:normal;font-family:Menlo,'DejaVu Sans Mono',consolas,'Courier New',monospace\">┏━━━━━━━━━━━━━━━━━━━━━━━━━━━━━━━━━━━━━━┳━━━━━━━━━━━━━━━━━━━━━━━━━━━━━┳━━━━━━━━━━━━━━━━━┓\n",
       "┃<span style=\"font-weight: bold\"> Layer (type)                         </span>┃<span style=\"font-weight: bold\"> Output Shape                </span>┃<span style=\"font-weight: bold\">         Param # </span>┃\n",
       "┡━━━━━━━━━━━━━━━━━━━━━━━━━━━━━━━━━━━━━━╇━━━━━━━━━━━━━━━━━━━━━━━━━━━━━╇━━━━━━━━━━━━━━━━━┩\n",
       "│ conv1d (<span style=\"color: #0087ff; text-decoration-color: #0087ff\">Conv1D</span>)                      │ (<span style=\"color: #00d7ff; text-decoration-color: #00d7ff\">None</span>, <span style=\"color: #00af00; text-decoration-color: #00af00\">10</span>, <span style=\"color: #00af00; text-decoration-color: #00af00\">256</span>)             │          <span style=\"color: #00af00; text-decoration-color: #00af00\">48,896</span> │\n",
       "├──────────────────────────────────────┼─────────────────────────────┼─────────────────┤\n",
       "│ conv1d_1 (<span style=\"color: #0087ff; text-decoration-color: #0087ff\">Conv1D</span>)                    │ (<span style=\"color: #00d7ff; text-decoration-color: #00d7ff\">None</span>, <span style=\"color: #00af00; text-decoration-color: #00af00\">10</span>, <span style=\"color: #00af00; text-decoration-color: #00af00\">128</span>)             │          <span style=\"color: #00af00; text-decoration-color: #00af00\">98,432</span> │\n",
       "├──────────────────────────────────────┼─────────────────────────────┼─────────────────┤\n",
       "│ conv1d_2 (<span style=\"color: #0087ff; text-decoration-color: #0087ff\">Conv1D</span>)                    │ (<span style=\"color: #00d7ff; text-decoration-color: #00d7ff\">None</span>, <span style=\"color: #00af00; text-decoration-color: #00af00\">10</span>, <span style=\"color: #00af00; text-decoration-color: #00af00\">64</span>)              │          <span style=\"color: #00af00; text-decoration-color: #00af00\">24,640</span> │\n",
       "├──────────────────────────────────────┼─────────────────────────────┼─────────────────┤\n",
       "│ flatten (<span style=\"color: #0087ff; text-decoration-color: #0087ff\">Flatten</span>)                    │ (<span style=\"color: #00d7ff; text-decoration-color: #00d7ff\">None</span>, <span style=\"color: #00af00; text-decoration-color: #00af00\">640</span>)                 │               <span style=\"color: #00af00; text-decoration-color: #00af00\">0</span> │\n",
       "├──────────────────────────────────────┼─────────────────────────────┼─────────────────┤\n",
       "│ dense (<span style=\"color: #0087ff; text-decoration-color: #0087ff\">Dense</span>)                        │ (<span style=\"color: #00d7ff; text-decoration-color: #00d7ff\">None</span>, <span style=\"color: #00af00; text-decoration-color: #00af00\">128</span>)                 │          <span style=\"color: #00af00; text-decoration-color: #00af00\">82,048</span> │\n",
       "├──────────────────────────────────────┼─────────────────────────────┼─────────────────┤\n",
       "│ dense_1 (<span style=\"color: #0087ff; text-decoration-color: #0087ff\">Dense</span>)                      │ (<span style=\"color: #00d7ff; text-decoration-color: #00d7ff\">None</span>, <span style=\"color: #00af00; text-decoration-color: #00af00\">64</span>)                  │           <span style=\"color: #00af00; text-decoration-color: #00af00\">8,256</span> │\n",
       "├──────────────────────────────────────┼─────────────────────────────┼─────────────────┤\n",
       "│ dense_2 (<span style=\"color: #0087ff; text-decoration-color: #0087ff\">Dense</span>)                      │ (<span style=\"color: #00d7ff; text-decoration-color: #00d7ff\">None</span>, <span style=\"color: #00af00; text-decoration-color: #00af00\">1</span>)                   │              <span style=\"color: #00af00; text-decoration-color: #00af00\">65</span> │\n",
       "└──────────────────────────────────────┴─────────────────────────────┴─────────────────┘\n",
       "</pre>\n"
      ],
      "text/plain": [
       "┏━━━━━━━━━━━━━━━━━━━━━━━━━━━━━━━━━━━━━━┳━━━━━━━━━━━━━━━━━━━━━━━━━━━━━┳━━━━━━━━━━━━━━━━━┓\n",
       "┃\u001b[1m \u001b[0m\u001b[1mLayer (type)                        \u001b[0m\u001b[1m \u001b[0m┃\u001b[1m \u001b[0m\u001b[1mOutput Shape               \u001b[0m\u001b[1m \u001b[0m┃\u001b[1m \u001b[0m\u001b[1m        Param #\u001b[0m\u001b[1m \u001b[0m┃\n",
       "┡━━━━━━━━━━━━━━━━━━━━━━━━━━━━━━━━━━━━━━╇━━━━━━━━━━━━━━━━━━━━━━━━━━━━━╇━━━━━━━━━━━━━━━━━┩\n",
       "│ conv1d (\u001b[38;5;33mConv1D\u001b[0m)                      │ (\u001b[38;5;45mNone\u001b[0m, \u001b[38;5;34m10\u001b[0m, \u001b[38;5;34m256\u001b[0m)             │          \u001b[38;5;34m48,896\u001b[0m │\n",
       "├──────────────────────────────────────┼─────────────────────────────┼─────────────────┤\n",
       "│ conv1d_1 (\u001b[38;5;33mConv1D\u001b[0m)                    │ (\u001b[38;5;45mNone\u001b[0m, \u001b[38;5;34m10\u001b[0m, \u001b[38;5;34m128\u001b[0m)             │          \u001b[38;5;34m98,432\u001b[0m │\n",
       "├──────────────────────────────────────┼─────────────────────────────┼─────────────────┤\n",
       "│ conv1d_2 (\u001b[38;5;33mConv1D\u001b[0m)                    │ (\u001b[38;5;45mNone\u001b[0m, \u001b[38;5;34m10\u001b[0m, \u001b[38;5;34m64\u001b[0m)              │          \u001b[38;5;34m24,640\u001b[0m │\n",
       "├──────────────────────────────────────┼─────────────────────────────┼─────────────────┤\n",
       "│ flatten (\u001b[38;5;33mFlatten\u001b[0m)                    │ (\u001b[38;5;45mNone\u001b[0m, \u001b[38;5;34m640\u001b[0m)                 │               \u001b[38;5;34m0\u001b[0m │\n",
       "├──────────────────────────────────────┼─────────────────────────────┼─────────────────┤\n",
       "│ dense (\u001b[38;5;33mDense\u001b[0m)                        │ (\u001b[38;5;45mNone\u001b[0m, \u001b[38;5;34m128\u001b[0m)                 │          \u001b[38;5;34m82,048\u001b[0m │\n",
       "├──────────────────────────────────────┼─────────────────────────────┼─────────────────┤\n",
       "│ dense_1 (\u001b[38;5;33mDense\u001b[0m)                      │ (\u001b[38;5;45mNone\u001b[0m, \u001b[38;5;34m64\u001b[0m)                  │           \u001b[38;5;34m8,256\u001b[0m │\n",
       "├──────────────────────────────────────┼─────────────────────────────┼─────────────────┤\n",
       "│ dense_2 (\u001b[38;5;33mDense\u001b[0m)                      │ (\u001b[38;5;45mNone\u001b[0m, \u001b[38;5;34m1\u001b[0m)                   │              \u001b[38;5;34m65\u001b[0m │\n",
       "└──────────────────────────────────────┴─────────────────────────────┴─────────────────┘\n"
      ]
     },
     "metadata": {},
     "output_type": "display_data"
    },
    {
     "data": {
      "text/html": [
       "<pre style=\"white-space:pre;overflow-x:auto;line-height:normal;font-family:Menlo,'DejaVu Sans Mono',consolas,'Courier New',monospace\"><span style=\"font-weight: bold\"> Total params: </span><span style=\"color: #00af00; text-decoration-color: #00af00\">262,337</span> (1.00 MB)\n",
       "</pre>\n"
      ],
      "text/plain": [
       "\u001b[1m Total params: \u001b[0m\u001b[38;5;34m262,337\u001b[0m (1.00 MB)\n"
      ]
     },
     "metadata": {},
     "output_type": "display_data"
    },
    {
     "data": {
      "text/html": [
       "<pre style=\"white-space:pre;overflow-x:auto;line-height:normal;font-family:Menlo,'DejaVu Sans Mono',consolas,'Courier New',monospace\"><span style=\"font-weight: bold\"> Trainable params: </span><span style=\"color: #00af00; text-decoration-color: #00af00\">262,337</span> (1.00 MB)\n",
       "</pre>\n"
      ],
      "text/plain": [
       "\u001b[1m Trainable params: \u001b[0m\u001b[38;5;34m262,337\u001b[0m (1.00 MB)\n"
      ]
     },
     "metadata": {},
     "output_type": "display_data"
    },
    {
     "data": {
      "text/html": [
       "<pre style=\"white-space:pre;overflow-x:auto;line-height:normal;font-family:Menlo,'DejaVu Sans Mono',consolas,'Courier New',monospace\"><span style=\"font-weight: bold\"> Non-trainable params: </span><span style=\"color: #00af00; text-decoration-color: #00af00\">0</span> (0.00 B)\n",
       "</pre>\n"
      ],
      "text/plain": [
       "\u001b[1m Non-trainable params: \u001b[0m\u001b[38;5;34m0\u001b[0m (0.00 B)\n"
      ]
     },
     "metadata": {},
     "output_type": "display_data"
    }
   ],
   "source": [
    "# CNN模型架構\n",
    "# 定義 CNN 模型\n",
    "\n",
    "model = Sequential([\n",
    "    Conv1D(256, kernel_size=5, activation='relu', padding='same', input_shape=(time_steps, X_train_seq.shape[2])),\n",
    "    Conv1D(128, kernel_size=3, activation='relu', padding='same'),\n",
    "    Conv1D(64, kernel_size=3, activation='relu', padding='same'),\n",
    "    Flatten(),\n",
    "    Dense(128, activation='relu'),\n",
    "    Dense(64, activation='relu'),\n",
    "    Dense(1)\n",
    "])\n",
    "\n",
    "\n",
    "# 編譯模型\n",
    "model.compile(optimizer=Adam(learning_rate=0.0005), loss='mse', metrics=['mae'])\n",
    "\n",
    "# 顯示模型結構\n",
    "model.summary()\n"
   ]
  },
  {
   "cell_type": "code",
   "execution_count": 16,
   "id": "71b894ba",
   "metadata": {
    "execution": {
     "iopub.execute_input": "2025-02-17T02:18:21.046261Z",
     "iopub.status.busy": "2025-02-17T02:18:21.045918Z",
     "iopub.status.idle": "2025-02-17T02:22:10.939408Z",
     "shell.execute_reply": "2025-02-17T02:22:10.938223Z"
    },
    "papermill": {
     "duration": 229.903469,
     "end_time": "2025-02-17T02:22:10.941316",
     "exception": false,
     "start_time": "2025-02-17T02:18:21.037847",
     "status": "completed"
    },
    "tags": []
   },
   "outputs": [
    {
     "name": "stdout",
     "output_type": "stream",
     "text": [
      "Epoch 1/50\n",
      "\u001b[1m516/516\u001b[0m \u001b[32m━━━━━━━━━━━━━━━━━━━━\u001b[0m\u001b[37m\u001b[0m \u001b[1m7s\u001b[0m 9ms/step - loss: 15813.5400 - mae: 38.5553 - val_loss: 5.9338 - val_mae: 2.3435\n",
      "Epoch 2/50\n",
      "\u001b[1m516/516\u001b[0m \u001b[32m━━━━━━━━━━━━━━━━━━━━\u001b[0m\u001b[37m\u001b[0m \u001b[1m4s\u001b[0m 9ms/step - loss: 24.8150 - mae: 3.4116 - val_loss: 23.7575 - val_mae: 4.8340\n",
      "Epoch 3/50\n",
      "\u001b[1m516/516\u001b[0m \u001b[32m━━━━━━━━━━━━━━━━━━━━\u001b[0m\u001b[37m\u001b[0m \u001b[1m4s\u001b[0m 9ms/step - loss: 36.8903 - mae: 4.4004 - val_loss: 90.9194 - val_mae: 9.5158\n",
      "Epoch 4/50\n",
      "\u001b[1m516/516\u001b[0m \u001b[32m━━━━━━━━━━━━━━━━━━━━\u001b[0m\u001b[37m\u001b[0m \u001b[1m4s\u001b[0m 9ms/step - loss: 32.5636 - mae: 3.7795 - val_loss: 0.3622 - val_mae: 0.4757\n",
      "Epoch 5/50\n",
      "\u001b[1m516/516\u001b[0m \u001b[32m━━━━━━━━━━━━━━━━━━━━\u001b[0m\u001b[37m\u001b[0m \u001b[1m4s\u001b[0m 9ms/step - loss: 6.7220 - mae: 1.9903 - val_loss: 2.1394 - val_mae: 1.3472\n",
      "Epoch 6/50\n",
      "\u001b[1m516/516\u001b[0m \u001b[32m━━━━━━━━━━━━━━━━━━━━\u001b[0m\u001b[37m\u001b[0m \u001b[1m5s\u001b[0m 9ms/step - loss: 9.5146 - mae: 2.4195 - val_loss: 8.8544 - val_mae: 2.9258\n",
      "Epoch 7/50\n",
      "\u001b[1m516/516\u001b[0m \u001b[32m━━━━━━━━━━━━━━━━━━━━\u001b[0m\u001b[37m\u001b[0m \u001b[1m5s\u001b[0m 9ms/step - loss: 9.8071 - mae: 2.4911 - val_loss: 11.9401 - val_mae: 3.4142\n",
      "Epoch 8/50\n",
      "\u001b[1m516/516\u001b[0m \u001b[32m━━━━━━━━━━━━━━━━━━━━\u001b[0m\u001b[37m\u001b[0m \u001b[1m4s\u001b[0m 9ms/step - loss: 152.7701 - mae: 2.9530 - val_loss: 146.9935 - val_mae: 12.1135\n",
      "Epoch 9/50\n",
      "\u001b[1m516/516\u001b[0m \u001b[32m━━━━━━━━━━━━━━━━━━━━\u001b[0m\u001b[37m\u001b[0m \u001b[1m5s\u001b[0m 9ms/step - loss: 7.1301 - mae: 1.3332 - val_loss: 0.2802 - val_mae: 0.4165\n",
      "Epoch 10/50\n",
      "\u001b[1m516/516\u001b[0m \u001b[32m━━━━━━━━━━━━━━━━━━━━\u001b[0m\u001b[37m\u001b[0m \u001b[1m5s\u001b[0m 9ms/step - loss: 0.4166 - mae: 0.5144 - val_loss: 0.2890 - val_mae: 0.4382\n",
      "Epoch 11/50\n",
      "\u001b[1m516/516\u001b[0m \u001b[32m━━━━━━━━━━━━━━━━━━━━\u001b[0m\u001b[37m\u001b[0m \u001b[1m5s\u001b[0m 9ms/step - loss: 1.0887 - mae: 0.8438 - val_loss: 1.5237 - val_mae: 1.1273\n",
      "Epoch 12/50\n",
      "\u001b[1m516/516\u001b[0m \u001b[32m━━━━━━━━━━━━━━━━━━━━\u001b[0m\u001b[37m\u001b[0m \u001b[1m5s\u001b[0m 9ms/step - loss: 2.2125 - mae: 1.2066 - val_loss: 0.6137 - val_mae: 0.6725\n",
      "Epoch 13/50\n",
      "\u001b[1m516/516\u001b[0m \u001b[32m━━━━━━━━━━━━━━━━━━━━\u001b[0m\u001b[37m\u001b[0m \u001b[1m5s\u001b[0m 9ms/step - loss: 2.4346 - mae: 1.2363 - val_loss: 0.4279 - val_mae: 0.5190\n",
      "Epoch 14/50\n",
      "\u001b[1m516/516\u001b[0m \u001b[32m━━━━━━━━━━━━━━━━━━━━\u001b[0m\u001b[37m\u001b[0m \u001b[1m5s\u001b[0m 9ms/step - loss: 1.6889 - mae: 1.0291 - val_loss: 0.2614 - val_mae: 0.4127\n",
      "Epoch 15/50\n",
      "\u001b[1m516/516\u001b[0m \u001b[32m━━━━━━━━━━━━━━━━━━━━\u001b[0m\u001b[37m\u001b[0m \u001b[1m5s\u001b[0m 9ms/step - loss: 0.9151 - mae: 0.7489 - val_loss: 0.6572 - val_mae: 0.6725\n",
      "Epoch 16/50\n",
      "\u001b[1m516/516\u001b[0m \u001b[32m━━━━━━━━━━━━━━━━━━━━\u001b[0m\u001b[37m\u001b[0m \u001b[1m5s\u001b[0m 9ms/step - loss: 0.8954 - mae: 0.7474 - val_loss: 0.5095 - val_mae: 0.5751\n",
      "Epoch 17/50\n",
      "\u001b[1m516/516\u001b[0m \u001b[32m━━━━━━━━━━━━━━━━━━━━\u001b[0m\u001b[37m\u001b[0m \u001b[1m4s\u001b[0m 9ms/step - loss: 1.0098 - mae: 0.8192 - val_loss: 2.8307 - val_mae: 1.6058\n",
      "Epoch 18/50\n",
      "\u001b[1m516/516\u001b[0m \u001b[32m━━━━━━━━━━━━━━━━━━━━\u001b[0m\u001b[37m\u001b[0m \u001b[1m4s\u001b[0m 9ms/step - loss: 1.1652 - mae: 0.8599 - val_loss: 1.0129 - val_mae: 0.8812\n",
      "Epoch 19/50\n",
      "\u001b[1m516/516\u001b[0m \u001b[32m━━━━━━━━━━━━━━━━━━━━\u001b[0m\u001b[37m\u001b[0m \u001b[1m5s\u001b[0m 9ms/step - loss: 0.4798 - mae: 0.5554 - val_loss: 0.2690 - val_mae: 0.4211\n",
      "Epoch 20/50\n",
      "\u001b[1m516/516\u001b[0m \u001b[32m━━━━━━━━━━━━━━━━━━━━\u001b[0m\u001b[37m\u001b[0m \u001b[1m5s\u001b[0m 9ms/step - loss: 0.6293 - mae: 0.6408 - val_loss: 0.4835 - val_mae: 0.5886\n",
      "Epoch 21/50\n",
      "\u001b[1m516/516\u001b[0m \u001b[32m━━━━━━━━━━━━━━━━━━━━\u001b[0m\u001b[37m\u001b[0m \u001b[1m5s\u001b[0m 9ms/step - loss: 0.4037 - mae: 0.5067 - val_loss: 0.2748 - val_mae: 0.4268\n",
      "Epoch 22/50\n",
      "\u001b[1m516/516\u001b[0m \u001b[32m━━━━━━━━━━━━━━━━━━━━\u001b[0m\u001b[37m\u001b[0m \u001b[1m5s\u001b[0m 9ms/step - loss: 0.3739 - mae: 0.4898 - val_loss: 0.2550 - val_mae: 0.4070\n",
      "Epoch 23/50\n",
      "\u001b[1m516/516\u001b[0m \u001b[32m━━━━━━━━━━━━━━━━━━━━\u001b[0m\u001b[37m\u001b[0m \u001b[1m4s\u001b[0m 9ms/step - loss: 27.6019 - mae: 1.2682 - val_loss: 0.2498 - val_mae: 0.3988\n",
      "Epoch 24/50\n",
      "\u001b[1m516/516\u001b[0m \u001b[32m━━━━━━━━━━━━━━━━━━━━\u001b[0m\u001b[37m\u001b[0m \u001b[1m4s\u001b[0m 9ms/step - loss: 0.2798 - mae: 0.4240 - val_loss: 0.2500 - val_mae: 0.3985\n",
      "Epoch 25/50\n",
      "\u001b[1m516/516\u001b[0m \u001b[32m━━━━━━━━━━━━━━━━━━━━\u001b[0m\u001b[37m\u001b[0m \u001b[1m4s\u001b[0m 9ms/step - loss: 0.2649 - mae: 0.4112 - val_loss: 0.2653 - val_mae: 0.4181\n",
      "Epoch 26/50\n",
      "\u001b[1m516/516\u001b[0m \u001b[32m━━━━━━━━━━━━━━━━━━━━\u001b[0m\u001b[37m\u001b[0m \u001b[1m4s\u001b[0m 9ms/step - loss: 0.2626 - mae: 0.4090 - val_loss: 0.2498 - val_mae: 0.3989\n",
      "Epoch 27/50\n",
      "\u001b[1m516/516\u001b[0m \u001b[32m━━━━━━━━━━━━━━━━━━━━\u001b[0m\u001b[37m\u001b[0m \u001b[1m5s\u001b[0m 9ms/step - loss: 0.2643 - mae: 0.4134 - val_loss: 0.2503 - val_mae: 0.4008\n",
      "Epoch 28/50\n",
      "\u001b[1m516/516\u001b[0m \u001b[32m━━━━━━━━━━━━━━━━━━━━\u001b[0m\u001b[37m\u001b[0m \u001b[1m5s\u001b[0m 9ms/step - loss: 0.2578 - mae: 0.4062 - val_loss: 0.2501 - val_mae: 0.4005\n",
      "Epoch 29/50\n",
      "\u001b[1m516/516\u001b[0m \u001b[32m━━━━━━━━━━━━━━━━━━━━\u001b[0m\u001b[37m\u001b[0m \u001b[1m4s\u001b[0m 9ms/step - loss: 0.2638 - mae: 0.4127 - val_loss: 0.2501 - val_mae: 0.4003\n",
      "Epoch 30/50\n",
      "\u001b[1m516/516\u001b[0m \u001b[32m━━━━━━━━━━━━━━━━━━━━\u001b[0m\u001b[37m\u001b[0m \u001b[1m4s\u001b[0m 9ms/step - loss: 0.2643 - mae: 0.4131 - val_loss: 0.2498 - val_mae: 0.3988\n",
      "Epoch 31/50\n",
      "\u001b[1m516/516\u001b[0m \u001b[32m━━━━━━━━━━━━━━━━━━━━\u001b[0m\u001b[37m\u001b[0m \u001b[1m4s\u001b[0m 9ms/step - loss: 0.2623 - mae: 0.4101 - val_loss: 0.2565 - val_mae: 0.4088\n",
      "Epoch 32/50\n",
      "\u001b[1m516/516\u001b[0m \u001b[32m━━━━━━━━━━━━━━━━━━━━\u001b[0m\u001b[37m\u001b[0m \u001b[1m5s\u001b[0m 9ms/step - loss: 0.2657 - mae: 0.4130 - val_loss: 0.2621 - val_mae: 0.4149\n",
      "Epoch 33/50\n",
      "\u001b[1m516/516\u001b[0m \u001b[32m━━━━━━━━━━━━━━━━━━━━\u001b[0m\u001b[37m\u001b[0m \u001b[1m5s\u001b[0m 9ms/step - loss: 0.2635 - mae: 0.4118 - val_loss: 0.2830 - val_mae: 0.4169\n",
      "Epoch 34/50\n",
      "\u001b[1m516/516\u001b[0m \u001b[32m━━━━━━━━━━━━━━━━━━━━\u001b[0m\u001b[37m\u001b[0m \u001b[1m5s\u001b[0m 9ms/step - loss: 0.2677 - mae: 0.4149 - val_loss: 0.2559 - val_mae: 0.4082\n",
      "Epoch 35/50\n",
      "\u001b[1m516/516\u001b[0m \u001b[32m━━━━━━━━━━━━━━━━━━━━\u001b[0m\u001b[37m\u001b[0m \u001b[1m5s\u001b[0m 9ms/step - loss: 0.2748 - mae: 0.4188 - val_loss: 0.3186 - val_mae: 0.4418\n",
      "Epoch 36/50\n",
      "\u001b[1m516/516\u001b[0m \u001b[32m━━━━━━━━━━━━━━━━━━━━\u001b[0m\u001b[37m\u001b[0m \u001b[1m5s\u001b[0m 9ms/step - loss: 0.2740 - mae: 0.4189 - val_loss: 0.2502 - val_mae: 0.3983\n",
      "Epoch 37/50\n",
      "\u001b[1m516/516\u001b[0m \u001b[32m━━━━━━━━━━━━━━━━━━━━\u001b[0m\u001b[37m\u001b[0m \u001b[1m4s\u001b[0m 9ms/step - loss: 0.2638 - mae: 0.4107 - val_loss: 0.2537 - val_mae: 0.4056\n",
      "Epoch 38/50\n",
      "\u001b[1m516/516\u001b[0m \u001b[32m━━━━━━━━━━━━━━━━━━━━\u001b[0m\u001b[37m\u001b[0m \u001b[1m4s\u001b[0m 9ms/step - loss: 0.2671 - mae: 0.4139 - val_loss: 0.4079 - val_mae: 0.5354\n",
      "Epoch 39/50\n",
      "\u001b[1m516/516\u001b[0m \u001b[32m━━━━━━━━━━━━━━━━━━━━\u001b[0m\u001b[37m\u001b[0m \u001b[1m4s\u001b[0m 9ms/step - loss: 0.2831 - mae: 0.4248 - val_loss: 0.2498 - val_mae: 0.3990\n",
      "Epoch 40/50\n",
      "\u001b[1m516/516\u001b[0m \u001b[32m━━━━━━━━━━━━━━━━━━━━\u001b[0m\u001b[37m\u001b[0m \u001b[1m5s\u001b[0m 9ms/step - loss: 0.2787 - mae: 0.4229 - val_loss: 0.2551 - val_mae: 0.4073\n",
      "Epoch 41/50\n",
      "\u001b[1m516/516\u001b[0m \u001b[32m━━━━━━━━━━━━━━━━━━━━\u001b[0m\u001b[37m\u001b[0m \u001b[1m5s\u001b[0m 9ms/step - loss: 0.2737 - mae: 0.4219 - val_loss: 0.2560 - val_mae: 0.3999\n",
      "Epoch 42/50\n",
      "\u001b[1m516/516\u001b[0m \u001b[32m━━━━━━━━━━━━━━━━━━━━\u001b[0m\u001b[37m\u001b[0m \u001b[1m5s\u001b[0m 9ms/step - loss: 0.2672 - mae: 0.4159 - val_loss: 0.2550 - val_mae: 0.3994\n",
      "Epoch 43/50\n",
      "\u001b[1m516/516\u001b[0m \u001b[32m━━━━━━━━━━━━━━━━━━━━\u001b[0m\u001b[37m\u001b[0m \u001b[1m5s\u001b[0m 9ms/step - loss: 0.2662 - mae: 0.4127 - val_loss: 0.2724 - val_mae: 0.4250\n",
      "Epoch 44/50\n",
      "\u001b[1m516/516\u001b[0m \u001b[32m━━━━━━━━━━━━━━━━━━━━\u001b[0m\u001b[37m\u001b[0m \u001b[1m4s\u001b[0m 9ms/step - loss: 0.2655 - mae: 0.4132 - val_loss: 0.2863 - val_mae: 0.4378\n",
      "Epoch 45/50\n",
      "\u001b[1m516/516\u001b[0m \u001b[32m━━━━━━━━━━━━━━━━━━━━\u001b[0m\u001b[37m\u001b[0m \u001b[1m5s\u001b[0m 9ms/step - loss: 0.2686 - mae: 0.4162 - val_loss: 0.2524 - val_mae: 0.4041\n",
      "Epoch 46/50\n",
      "\u001b[1m516/516\u001b[0m \u001b[32m━━━━━━━━━━━━━━━━━━━━\u001b[0m\u001b[37m\u001b[0m \u001b[1m4s\u001b[0m 9ms/step - loss: 0.2630 - mae: 0.4120 - val_loss: 0.2527 - val_mae: 0.3985\n",
      "Epoch 47/50\n",
      "\u001b[1m516/516\u001b[0m \u001b[32m━━━━━━━━━━━━━━━━━━━━\u001b[0m\u001b[37m\u001b[0m \u001b[1m5s\u001b[0m 9ms/step - loss: 0.2599 - mae: 0.4085 - val_loss: 0.2532 - val_mae: 0.3986\n",
      "Epoch 48/50\n",
      "\u001b[1m516/516\u001b[0m \u001b[32m━━━━━━━━━━━━━━━━━━━━\u001b[0m\u001b[37m\u001b[0m \u001b[1m4s\u001b[0m 9ms/step - loss: 0.2604 - mae: 0.4094 - val_loss: 0.2630 - val_mae: 0.4037\n",
      "Epoch 49/50\n",
      "\u001b[1m516/516\u001b[0m \u001b[32m━━━━━━━━━━━━━━━━━━━━\u001b[0m\u001b[37m\u001b[0m \u001b[1m5s\u001b[0m 9ms/step - loss: 0.2556 - mae: 0.4056 - val_loss: 0.2526 - val_mae: 0.4044\n",
      "Epoch 50/50\n",
      "\u001b[1m516/516\u001b[0m \u001b[32m━━━━━━━━━━━━━━━━━━━━\u001b[0m\u001b[37m\u001b[0m \u001b[1m5s\u001b[0m 9ms/step - loss: 0.5851 - mae: 0.4484 - val_loss: 0.2497 - val_mae: 0.3991\n"
     ]
    }
   ],
   "source": [
    "# 訓練 CNN\n",
    "history = model.fit(\n",
    "    X_train_seq, y_train_seq,\n",
    "    epochs=50, batch_size=32,\n",
    "    validation_data=(X_test_seq, y_test_seq),\n",
    "    verbose=1\n",
    ")\n"
   ]
  },
  {
   "cell_type": "code",
   "execution_count": 17,
   "id": "2ee54ab2",
   "metadata": {
    "execution": {
     "iopub.execute_input": "2025-02-17T02:22:11.401249Z",
     "iopub.status.busy": "2025-02-17T02:22:11.400867Z",
     "iopub.status.idle": "2025-02-17T02:22:12.168180Z",
     "shell.execute_reply": "2025-02-17T02:22:12.166832Z"
    },
    "papermill": {
     "duration": 0.997803,
     "end_time": "2025-02-17T02:22:12.169940",
     "exception": false,
     "start_time": "2025-02-17T02:22:11.172137",
     "status": "completed"
    },
    "tags": []
   },
   "outputs": [
    {
     "name": "stdout",
     "output_type": "stream",
     "text": [
      "\u001b[1m129/129\u001b[0m \u001b[32m━━━━━━━━━━━━━━━━━━━━\u001b[0m\u001b[37m\u001b[0m \u001b[1m1s\u001b[0m 4ms/step\n",
      "CNN 模型的 MSE: 0.24972954927192645\n",
      "CNN 模型的 RMSE: 0.4997294760887399\n",
      "CNN 模型的 R²: -3.5046747932643285e-06\n"
     ]
    }
   ],
   "source": [
    "# 預測測試集\n",
    "y_pred_cnn = model.predict(X_test_seq)\n",
    "\n",
    "# 計算 MSE、RMSE、R²\n",
    "mse_cnn = mean_squared_error(y_test_seq, y_pred_cnn)\n",
    "rmse_cnn = np.sqrt(mse_cnn)\n",
    "r2_cnn = r2_score(y_test_seq, y_pred_cnn)\n",
    "\n",
    "# 輸出結果\n",
    "print(f\"CNN 模型的 MSE: {mse_cnn}\")\n",
    "print(f\"CNN 模型的 RMSE: {rmse_cnn}\")\n",
    "print(f\"CNN 模型的 R²: {r2_cnn}\")\n"
   ]
  },
  {
   "cell_type": "code",
   "execution_count": 18,
   "id": "4a97c46d",
   "metadata": {
    "execution": {
     "iopub.execute_input": "2025-02-17T02:22:12.624255Z",
     "iopub.status.busy": "2025-02-17T02:22:12.623883Z",
     "iopub.status.idle": "2025-02-17T02:22:12.955167Z",
     "shell.execute_reply": "2025-02-17T02:22:12.953982Z"
    },
    "papermill": {
     "duration": 0.5599,
     "end_time": "2025-02-17T02:22:12.956836",
     "exception": false,
     "start_time": "2025-02-17T02:22:12.396936",
     "status": "completed"
    },
    "tags": []
   },
   "outputs": [
    {
     "data": {
      "image/png": "[encoded data removed]",
      "text/plain": [
       "<Figure size 640x480 with 1 Axes>"
      ]
     },
     "metadata": {},
     "output_type": "display_data"
    }
   ],
   "source": [
    "# 觀察 Loss 變化\n",
    "import matplotlib.pyplot as plt\n",
    "\n",
    "plt.plot(history.history['loss'], label='Train Loss')\n",
    "plt.plot(history.history['val_loss'], label='Validation Loss')\n",
    "plt.xlabel('Epochs')\n",
    "plt.ylabel('Loss')\n",
    "plt.legend()\n",
    "plt.show()\n"
   ]
  },
  {
   "cell_type": "markdown",
   "id": "6fcec32a",
   "metadata": {
    "papermill": {
     "duration": 0.230423,
     "end_time": "2025-02-17T02:22:13.477454",
     "exception": false,
     "start_time": "2025-02-17T02:22:13.247031",
     "status": "completed"
    },
    "tags": []
   },
   "source": [
    "\n",
    "---\n",
    "\n",
    "## **5️⃣ 模型部署（Flask / FastAPI）**\n",
    "📌 **目標**：使用 Flask 部署模型  \n",
    "\n",
    "📌 **程式碼**\n",
    "```python\n",
    "from flask import Flask, request, jsonify\n",
    "import joblib\n",
    "\n",
    "app = Flask(__name__)\n",
    "model = joblib.load(\"rf_model.pkl\")\n",
    "\n",
    "@app.route('/predict', methods=['POST'])\n",
    "def predict():\n",
    "    data = request.json['features']\n",
    "    prediction = model.predict([data])\n",
    "    return jsonify({\"RUL Prediction\": prediction.tolist()})\n",
    "\n",
    "app.run(debug=True)"
   ]
  },
  {
   "cell_type": "markdown",
   "id": "6dc1480b",
   "metadata": {
    "papermill": {
     "duration": 0.227538,
     "end_time": "2025-02-17T02:22:13.933725",
     "exception": false,
     "start_time": "2025-02-17T02:22:13.706187",
     "status": "completed"
    },
    "tags": []
   },
   "source": [
    "## 6. **簡報與GitHub專案**\n",
    "- 在 Kaggle Notebook 中，你可以創建可重現的分析過程，並將其保存為Notebook文件。\n",
    "- 可以將這些步驟整理成簡報，展示你如何進行數據預處理、模型建立、性能評估等。\n",
    "- 在 GitHub 上創建一個專案，將你的代碼和結果分享給其他人。"
   ]
  }
 ],
 "metadata": {
  "kaggle": {
   "accelerator": "none",
   "dataSources": [
    {
     "datasetId": 276801,
     "sourceId": 572434,
     "sourceType": "datasetVersion"
    },
    {
     "datasetId": 1845609,
     "sourceId": 3013113,
     "sourceType": "datasetVersion"
    }
   ],
   "dockerImageVersionId": 30886,
   "isGpuEnabled": false,
   "isInternetEnabled": true,
   "language": "python",
   "sourceType": "notebook"
  },
  "kernelspec": {
   "display_name": "Python 3",
   "language": "python",
   "name": "python3"
  },
  "language_info": {
   "codemirror_mode": {
    "name": "ipython",
    "version": 3
   },
   "file_extension": ".py",
   "mimetype": "text/x-python",
   "name": "python",
   "nbconvert_exporter": "python",
   "pygments_lexer": "ipython3",
   "version": "3.10.12"
  },
  "papermill": {
   "default_parameters": {},
   "duration": 298.82981,
   "end_time": "2025-02-17T02:22:16.702753",
   "environment_variables": {},
   "exception": null,
   "input_path": "__notebook__.ipynb",
   "output_path": "__notebook__.ipynb",
   "parameters": {},
   "start_time": "2025-02-17T02:17:17.872943",
   "version": "2.6.0"
  }
 },
 "nbformat": 4,
 "nbformat_minor": 5
}
